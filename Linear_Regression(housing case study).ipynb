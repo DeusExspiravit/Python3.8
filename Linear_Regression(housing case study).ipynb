{
  "nbformat": 4,
  "nbformat_minor": 0,
  "metadata": {
    "colab": {
      "name": "Linear Regression.ipynb",
      "provenance": [],
      "authorship_tag": "ABX9TyPXFz3LssPnM+LaPjNC9zD8",
      "include_colab_link": true
    },
    "kernelspec": {
      "name": "python3",
      "display_name": "Python 3"
    },
    "language_info": {
      "name": "python"
    }
  },
  "cells": [
    {
      "cell_type": "markdown",
      "metadata": {
        "id": "view-in-github",
        "colab_type": "text"
      },
      "source": [
        "<a href=\"https://colab.research.google.com/github/DeusExspiravit/Python3.8/blob/main/Linear_Regression(housing%20case%20study).ipynb\" target=\"_parent\"><img src=\"https://colab.research.google.com/assets/colab-badge.svg\" alt=\"Open In Colab\"/></a>"
      ]
    },
    {
      "cell_type": "code",
      "metadata": {
        "id": "CJ4kQm4rJx7K"
      },
      "source": [
        "import pandas as pd\n",
        "import numpy as np"
      ],
      "execution_count": 87,
      "outputs": []
    },
    {
      "cell_type": "code",
      "metadata": {
        "id": "2NATA0LmKDwR"
      },
      "source": [
        "dataset = pd.read_csv('/content/Housing (1).csv')"
      ],
      "execution_count": 88,
      "outputs": []
    },
    {
      "cell_type": "code",
      "metadata": {
        "id": "5ET-pH2PKSoR"
      },
      "source": [
        "columns = dataset.columns"
      ],
      "execution_count": 89,
      "outputs": []
    },
    {
      "cell_type": "code",
      "metadata": {
        "id": "rk8Do98AK_go"
      },
      "source": [
        "L = []\n",
        "for i in columns:\n",
        "  if type(dataset[i][0]) == str:\n",
        "    L.append(i)"
      ],
      "execution_count": 90,
      "outputs": []
    },
    {
      "cell_type": "code",
      "metadata": {
        "colab": {
          "base_uri": "https://localhost:8080/"
        },
        "id": "DJmKmSXjM9-o",
        "outputId": "67ec8a15-1183-4c2a-f203-c68bff1d9752"
      },
      "source": [
        "L"
      ],
      "execution_count": 91,
      "outputs": [
        {
          "output_type": "execute_result",
          "data": {
            "text/plain": [
              "['mainroad',\n",
              " 'guestroom',\n",
              " 'basement',\n",
              " 'hotwaterheating',\n",
              " 'airconditioning',\n",
              " 'prefarea',\n",
              " 'furnishingstatus']"
            ]
          },
          "metadata": {
            "tags": []
          },
          "execution_count": 91
        }
      ]
    },
    {
      "cell_type": "code",
      "metadata": {
        "id": "j2iqLqX1M-8Y"
      },
      "source": [
        "st = {}\n",
        "for i in L:\n",
        "  p = dataset[i].unique()\n",
        "  st[i[:2]] = p"
      ],
      "execution_count": 92,
      "outputs": []
    },
    {
      "cell_type": "code",
      "metadata": {
        "colab": {
          "base_uri": "https://localhost:8080/"
        },
        "id": "7DcyrmWNQV0B",
        "outputId": "a57ea671-b855-4707-bc20-9d89fbd50e43"
      },
      "source": [
        "st"
      ],
      "execution_count": 93,
      "outputs": [
        {
          "output_type": "execute_result",
          "data": {
            "text/plain": [
              "{'ai': array(['yes', 'no'], dtype=object),\n",
              " 'ba': array(['no', 'yes'], dtype=object),\n",
              " 'fu': array(['furnished', 'semi-furnished', 'unfurnished'], dtype=object),\n",
              " 'gu': array(['no', 'yes'], dtype=object),\n",
              " 'ho': array(['no', 'yes'], dtype=object),\n",
              " 'ma': array(['yes', 'no'], dtype=object),\n",
              " 'pr': array(['yes', 'no'], dtype=object)}"
            ]
          },
          "metadata": {
            "tags": []
          },
          "execution_count": 93
        }
      ]
    },
    {
      "cell_type": "code",
      "metadata": {
        "id": "6y4NycVDUALZ"
      },
      "source": [
        "ad = []\n",
        "for i in st:\n",
        "  ad.append(i)"
      ],
      "execution_count": 94,
      "outputs": []
    },
    {
      "cell_type": "code",
      "metadata": {
        "colab": {
          "base_uri": "https://localhost:8080/"
        },
        "id": "bRWbFG0rRqYg",
        "outputId": "5b9825ad-f17f-4669-ea9f-1d4836e85c20"
      },
      "source": [
        "for i in range(len(st)):\n",
        "  n = int(len(st[ad[i]]))\n",
        "  di = {}\n",
        "  for j in range(n):\n",
        "    di[st[ad[i]][j]] = j\n",
        "  print(di)\n",
        "  print(L[i])\n",
        "  dataset[L[i]] = dataset[L[i]].apply(di.get)\n"
      ],
      "execution_count": 95,
      "outputs": [
        {
          "output_type": "stream",
          "text": [
            "{'yes': 0, 'no': 1}\n",
            "mainroad\n",
            "{'no': 0, 'yes': 1}\n",
            "guestroom\n",
            "{'no': 0, 'yes': 1}\n",
            "basement\n",
            "{'no': 0, 'yes': 1}\n",
            "hotwaterheating\n",
            "{'yes': 0, 'no': 1}\n",
            "airconditioning\n",
            "{'yes': 0, 'no': 1}\n",
            "prefarea\n",
            "{'furnished': 0, 'semi-furnished': 1, 'unfurnished': 2}\n",
            "furnishingstatus\n"
          ],
          "name": "stdout"
        }
      ]
    },
    {
      "cell_type": "code",
      "metadata": {
        "colab": {
          "base_uri": "https://localhost:8080/",
          "height": 224
        },
        "id": "J8LkyZixTP7o",
        "outputId": "bcfe067f-b2cc-4122-a7b7-97bf5af2364c"
      },
      "source": [
        "dataset.head()"
      ],
      "execution_count": 96,
      "outputs": [
        {
          "output_type": "execute_result",
          "data": {
            "text/html": [
              "<div>\n",
              "<style scoped>\n",
              "    .dataframe tbody tr th:only-of-type {\n",
              "        vertical-align: middle;\n",
              "    }\n",
              "\n",
              "    .dataframe tbody tr th {\n",
              "        vertical-align: top;\n",
              "    }\n",
              "\n",
              "    .dataframe thead th {\n",
              "        text-align: right;\n",
              "    }\n",
              "</style>\n",
              "<table border=\"1\" class=\"dataframe\">\n",
              "  <thead>\n",
              "    <tr style=\"text-align: right;\">\n",
              "      <th></th>\n",
              "      <th>price</th>\n",
              "      <th>area</th>\n",
              "      <th>bedrooms</th>\n",
              "      <th>bathrooms</th>\n",
              "      <th>stories</th>\n",
              "      <th>mainroad</th>\n",
              "      <th>guestroom</th>\n",
              "      <th>basement</th>\n",
              "      <th>hotwaterheating</th>\n",
              "      <th>airconditioning</th>\n",
              "      <th>parking</th>\n",
              "      <th>prefarea</th>\n",
              "      <th>furnishingstatus</th>\n",
              "    </tr>\n",
              "  </thead>\n",
              "  <tbody>\n",
              "    <tr>\n",
              "      <th>0</th>\n",
              "      <td>13300000</td>\n",
              "      <td>7420</td>\n",
              "      <td>4</td>\n",
              "      <td>2</td>\n",
              "      <td>3</td>\n",
              "      <td>0</td>\n",
              "      <td>0</td>\n",
              "      <td>0</td>\n",
              "      <td>0</td>\n",
              "      <td>0</td>\n",
              "      <td>2</td>\n",
              "      <td>0</td>\n",
              "      <td>0</td>\n",
              "    </tr>\n",
              "    <tr>\n",
              "      <th>1</th>\n",
              "      <td>12250000</td>\n",
              "      <td>8960</td>\n",
              "      <td>4</td>\n",
              "      <td>4</td>\n",
              "      <td>4</td>\n",
              "      <td>0</td>\n",
              "      <td>0</td>\n",
              "      <td>0</td>\n",
              "      <td>0</td>\n",
              "      <td>0</td>\n",
              "      <td>3</td>\n",
              "      <td>1</td>\n",
              "      <td>0</td>\n",
              "    </tr>\n",
              "    <tr>\n",
              "      <th>2</th>\n",
              "      <td>12250000</td>\n",
              "      <td>9960</td>\n",
              "      <td>3</td>\n",
              "      <td>2</td>\n",
              "      <td>2</td>\n",
              "      <td>0</td>\n",
              "      <td>0</td>\n",
              "      <td>1</td>\n",
              "      <td>0</td>\n",
              "      <td>1</td>\n",
              "      <td>2</td>\n",
              "      <td>0</td>\n",
              "      <td>1</td>\n",
              "    </tr>\n",
              "    <tr>\n",
              "      <th>3</th>\n",
              "      <td>12215000</td>\n",
              "      <td>7500</td>\n",
              "      <td>4</td>\n",
              "      <td>2</td>\n",
              "      <td>2</td>\n",
              "      <td>0</td>\n",
              "      <td>0</td>\n",
              "      <td>1</td>\n",
              "      <td>0</td>\n",
              "      <td>0</td>\n",
              "      <td>3</td>\n",
              "      <td>0</td>\n",
              "      <td>0</td>\n",
              "    </tr>\n",
              "    <tr>\n",
              "      <th>4</th>\n",
              "      <td>11410000</td>\n",
              "      <td>7420</td>\n",
              "      <td>4</td>\n",
              "      <td>1</td>\n",
              "      <td>2</td>\n",
              "      <td>0</td>\n",
              "      <td>1</td>\n",
              "      <td>1</td>\n",
              "      <td>0</td>\n",
              "      <td>0</td>\n",
              "      <td>2</td>\n",
              "      <td>1</td>\n",
              "      <td>0</td>\n",
              "    </tr>\n",
              "  </tbody>\n",
              "</table>\n",
              "</div>"
            ],
            "text/plain": [
              "      price  area  bedrooms  ...  parking  prefarea  furnishingstatus\n",
              "0  13300000  7420         4  ...        2         0                 0\n",
              "1  12250000  8960         4  ...        3         1                 0\n",
              "2  12250000  9960         3  ...        2         0                 1\n",
              "3  12215000  7500         4  ...        3         0                 0\n",
              "4  11410000  7420         4  ...        2         1                 0\n",
              "\n",
              "[5 rows x 13 columns]"
            ]
          },
          "metadata": {
            "tags": []
          },
          "execution_count": 96
        }
      ]
    },
    {
      "cell_type": "code",
      "metadata": {
        "id": "Do-0qEjXWJW4"
      },
      "source": [
        "import sklearn \n",
        "from sklearn.model_selection import train_test_split"
      ],
      "execution_count": 97,
      "outputs": []
    },
    {
      "cell_type": "code",
      "metadata": {
        "id": "L-MjzVnSzZOo"
      },
      "source": [
        "y = dataset['price']"
      ],
      "execution_count": 110,
      "outputs": []
    },
    {
      "cell_type": "code",
      "metadata": {
        "id": "e8jTH1K-2U8x"
      },
      "source": [
        "x = dataset.drop('price', axis=1)"
      ],
      "execution_count": 117,
      "outputs": []
    },
    {
      "cell_type": "code",
      "metadata": {
        "id": "uGk9WrAHy89_"
      },
      "source": [
        "x_train, x_test, y_train, y_test = train_test_split(x, y, test_size = 0.25)"
      ],
      "execution_count": 160,
      "outputs": []
    },
    {
      "cell_type": "code",
      "metadata": {
        "id": "7lCeU51j3aUO"
      },
      "source": [
        "from sklearn.linear_model import LinearRegression"
      ],
      "execution_count": 161,
      "outputs": []
    },
    {
      "cell_type": "code",
      "metadata": {
        "id": "P6z4xMNF3k_G"
      },
      "source": [
        "model = LinearRegression()"
      ],
      "execution_count": 162,
      "outputs": []
    },
    {
      "cell_type": "code",
      "metadata": {
        "colab": {
          "base_uri": "https://localhost:8080/"
        },
        "id": "XUYMtjSf3yh2",
        "outputId": "7a6037f5-e127-4dd9-a265-e2cf21862f73"
      },
      "source": [
        "model.fit(x_train, y_train)"
      ],
      "execution_count": 163,
      "outputs": [
        {
          "output_type": "execute_result",
          "data": {
            "text/plain": [
              "LinearRegression(copy_X=True, fit_intercept=True, n_jobs=None, normalize=False)"
            ]
          },
          "metadata": {
            "tags": []
          },
          "execution_count": 163
        }
      ]
    },
    {
      "cell_type": "code",
      "metadata": {
        "id": "K64ZLglB3-i2"
      },
      "source": [
        "predictions = model.predict(x_test)"
      ],
      "execution_count": 164,
      "outputs": []
    },
    {
      "cell_type": "code",
      "metadata": {
        "colab": {
          "base_uri": "https://localhost:8080/"
        },
        "id": "pFxTeKxX4Vim",
        "outputId": "760794f5-ea86-406f-85e8-b8881f1fa9e1"
      },
      "source": [
        "predictions[:5]"
      ],
      "execution_count": 165,
      "outputs": [
        {
          "output_type": "execute_result",
          "data": {
            "text/plain": [
              "array([3575489.81691792, 5140904.20392983, 4440435.15305676,\n",
              "       7422121.03469539, 5546520.9714258 ])"
            ]
          },
          "metadata": {
            "tags": []
          },
          "execution_count": 165
        }
      ]
    },
    {
      "cell_type": "code",
      "metadata": {
        "colab": {
          "base_uri": "https://localhost:8080/"
        },
        "id": "u4NZ0dSM4cRN",
        "outputId": "40d50cd0-499c-4215-f905-c04e5ac9d213"
      },
      "source": [
        "model.score(x, y)"
      ],
      "execution_count": 166,
      "outputs": [
        {
          "output_type": "execute_result",
          "data": {
            "text/plain": [
              "0.67882365907758"
            ]
          },
          "metadata": {
            "tags": []
          },
          "execution_count": 166
        }
      ]
    }
  ]
}